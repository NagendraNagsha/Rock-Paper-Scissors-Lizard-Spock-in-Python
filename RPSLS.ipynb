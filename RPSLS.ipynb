# importing needed modules
import random

#initializing required variables
User=0
System=0

#contains all logical explanation of data

data={ 
	'ROCK': { 'ROCK' : 'T','PAPER' : 0,'SCISSORS' : 1,'LIZARD' : 1,'SPOCK' : 0 },
	'PAPER': { 'ROCK' : 1,'PAPER' : 'T','SCISSORS' : 0,'LIZARD' : 0,'SPOCK' : 1 },
	'SCISSORS': { 'ROCK' : 0,'PAPER' : 1,'SCISSORS' : 'T','LIZARD' : 1,'SPOCK' : 0 },
	'LIZARD': { 'ROCK' : 0,'PAPER' : 1,'SCISSORS' : 0,'LIZARD' : 'T','SPOCK' : 1 },
	'SPOCK': { 'ROCK' : 1,'PAPER' : 0,'SCISSORS' : 1,'LIZARD' : 0,'SPOCK' : 'T' }
	}
Input_list=['ROCK','PAPER','SCISSORS','LIZARD','SPOCK']

print('Welcome to Rock Paper Scissors Lizard Spock\n')
print('How many rounds you wanna play!!:')

# Asks for how many rounds user wants to play
#asks again if user enter alplabet instead of number

while(True):
  try:
    Rounds=int(input())
    break;
  except:
    print('please provide a number!!!')




print('Pick One!!\n--ROCK--PAPER--SCISSORS--LIZARD--SPOCK--\n')

#starts internal input of user based on the rounds input given
count=1
for i in range(Rounds):
  Flag=True
  print('Round',count)
  while(Flag):
    
    User_input=input('You:')
    #converting input to upper case if it is given in lower case
    User_input=User_input.upper()

    User_input_val=lambda a : False if a in Input_list else True
    Flag=User_input_val(User_input)
    if Flag==True:
      print('Please enter your choice from above')
    else:
      sys_user=random.choice(Input_list)
      if data[User_input][sys_user]==1:
        print('SYSTEM:',sys_user)
        print('Hurray!!! You Win\n')
        User+=1
      elif data[User_input][sys_user]=='T':
        print('SYSTEM:',sys_user)
        print('Tied!!  Dont give up!!\n')
      else:
        print('SYSTEM:',sys_user)
        print('System Wins\n')
        System+=1
      count+=1
print('Final Score')
if User>System:
  print('You Win!!')
elif User<System:
  print('Sorry!! You Lost')
else:
  print('Tied!! Dont give up Try Again')




